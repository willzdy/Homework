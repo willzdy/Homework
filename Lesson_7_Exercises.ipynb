{
  "nbformat": 4,
  "nbformat_minor": 0,
  "metadata": {
    "colab": {
      "name": "Lesson 7 - Exercises.ipynb",
      "provenance": [],
      "include_colab_link": true
    },
    "kernelspec": {
      "name": "python3",
      "display_name": "Python 3"
    },
    "language_info": {
      "name": "python"
    }
  },
  "cells": [
    {
      "cell_type": "markdown",
      "metadata": {
        "id": "view-in-github",
        "colab_type": "text"
      },
      "source": [
        "<a href=\"https://colab.research.google.com/github/willzdy/Homework/blob/main/Lesson_7_Exercises.ipynb\" target=\"_parent\"><img src=\"https://colab.research.google.com/assets/colab-badge.svg\" alt=\"Open In Colab\"/></a>"
      ]
    },
    {
      "cell_type": "markdown",
      "source": [
        "# Lesson 7 - Imports and Built-In Functions\n"
      ],
      "metadata": {
        "id": "_HYsolI8MviG"
      }
    },
    {
      "cell_type": "markdown",
      "source": [
        "### Exercise 1 - Functions\n",
        "Write a function that ***returns*** the greater number of two ***given*** numbers. \n",
        "Hint: You need two parameters for the two given numbers"
      ],
      "metadata": {
        "id": "rynH_ZNmM2rZ"
      }
    },
    {
      "cell_type": "code",
      "source": [
        "def get_max(smaller_number, greater_number):\n",
        "\n",
        "  \n",
        " if (smaller_number > greater_number):\n",
        "  return smaller_number \n",
        " else:\n",
        "  return greater_number\n",
        "  get_max(4,8)"
      ],
      "metadata": {
        "id": "OeVayFozM-35"
      },
      "execution_count": null,
      "outputs": []
    },
    {
      "cell_type": "markdown",
      "source": [
        "### Exercise 2 Built-In Functions\n",
        "Write a function named ***check_password_length()*** to check if a given password has the minimum length of 8 characters. Return a ***boolean*** that indicates if the given password has the required length.\n"
      ],
      "metadata": {
        "id": "al62SR_NM_g5"
      }
    },
    {
      "cell_type": "code",
      "execution_count": null,
      "metadata": {
        "id": "MiLPyOiNMfJJ"
      },
      "outputs": [],
      "source": [
        "def check_length(given_password):\n",
        "  if len (given_password)<= 8:\n",
        "   return False\n",
        "  else:\n",
        "   return True\n",
        "  check_length(\"individual\")"
      ]
    },
    {
      "cell_type": "markdown",
      "source": [
        "Write another function named ***request_password()***  that ask the user to enter a password. Then check if the entered password has the required length of 8 character (use the function *check_password_length* that you have written before). If the password has the required length, print \"*Thank you for entering your password*”. Otherwise print \"*The entered password is too short. Your password needs at least 8 characters.*”\n",
        "\n"
      ],
      "metadata": {
        "id": "X4Ey2ulYRZKi"
      }
    },
    {
      "cell_type": "code",
      "source": [
        "#write your code here:\n",
        "def request_password():\n",
        "  password = input(\"Please enter a password: \")\n",
        "  while not check_length(password) :\n",
        "    print(\"The entered password is too. Your password needs at least 8 charachters.\")\n",
        "    password = input(\"Please enter a longer password: \")\n",
        "    print(\"Thank you for entering your password\")"
      ],
      "metadata": {
        "id": "7g3qwfFYNJ8L"
      },
      "execution_count": null,
      "outputs": []
    },
    {
      "cell_type": "markdown",
      "source": [
        "### Exercise 3\n",
        "Write a function ***get_sqrt()*** that ***returns*** the square  root of a given number using the ***math module***"
      ],
      "metadata": {
        "id": "rXjzN_kVUZIQ"
      }
    },
    {
      "cell_type": "code",
      "source": [
        "#write your code here\n",
        "from IPython.core.display import Math\n",
        "#write your code here:\n",
        "import math\n",
        "def get_sqrt(buchi):\n",
        "  return math.sqrt(buchi)\n",
        "  get_sqrt(56)"
      ],
      "metadata": {
        "id": "kll8gP8PUepJ"
      },
      "execution_count": null,
      "outputs": []
    },
    {
      "cell_type": "markdown",
      "source": [
        "### Exercise 4 - Importing Functions\n",
        "Create a function that returns\n",
        "0 with 25%\n",
        "*   0 with 25%\n",
        "*   1 with 75%\n",
        "\n",
        "probability\n"
      ],
      "metadata": {
        "id": "zPPCsXiFSDEy"
      }
    },
    {
      "cell_type": "code",
      "source": [
        "#write your code here:\n"
      ],
      "metadata": {
        "id": "2M98JblMPgQE"
      },
      "execution_count": null,
      "outputs": []
    },
    {
      "cell_type": "code",
      "source": [
        "student_name = [\"David\", \"shilpa\", \"thoe\", \"jamila\"]\n",
        "print (student_name)\n"
      ],
      "metadata": {
        "colab": {
          "base_uri": "https://localhost:8080/"
        },
        "id": "zmQED-s-JMBC",
        "outputId": "d3d989ff-93eb-4092-f7d5-86fd7c8dd47d"
      },
      "execution_count": null,
      "outputs": [
        {
          "output_type": "stream",
          "name": "stdout",
          "text": [
            "['David', 'shilpa', 'thoe', 'jamila']\n"
          ]
        }
      ]
    },
    {
      "cell_type": "code",
      "source": [
        "print (student_name[2])"
      ],
      "metadata": {
        "colab": {
          "base_uri": "https://localhost:8080/"
        },
        "id": "9VuMOQ5pKJIf",
        "outputId": "5cd30736-7fd9-4ba9-82d1-b0ab5a721f00"
      },
      "execution_count": null,
      "outputs": [
        {
          "output_type": "stream",
          "name": "stdout",
          "text": [
            "thoe\n"
          ]
        }
      ]
    },
    {
      "cell_type": "code",
      "source": [
        "print (student_name[3])"
      ],
      "metadata": {
        "colab": {
          "base_uri": "https://localhost:8080/"
        },
        "id": "OurG9-PdKXa0",
        "outputId": "88642dce-56f9-4e0b-944a-b716383e59f4"
      },
      "execution_count": null,
      "outputs": [
        {
          "output_type": "stream",
          "name": "stdout",
          "text": [
            "jamila\n"
          ]
        }
      ]
    },
    {
      "cell_type": "code",
      "source": [
        "#Homework 1(lesson 7)\n",
        "def test_range(n):\n",
        "    if n in range(3,2):\n",
        "        print( \" %s is in the range\"%str(n))\n",
        "    else :\n",
        "        print(\"The number is outside the given range.\")\n",
        "test_range(1)"
      ],
      "metadata": {
        "colab": {
          "base_uri": "https://localhost:8080/"
        },
        "id": "GFE-3p4aKoXX",
        "outputId": "b9b894e1-d5c4-46ff-d584-345677c36f97"
      },
      "execution_count": null,
      "outputs": [
        {
          "output_type": "stream",
          "name": "stdout",
          "text": [
            "The number is outside the given range.\n"
          ]
        }
      ]
    },
    {
      "cell_type": "code",
      "source": [
        "#Homework 2(lesson 7)\n",
        "import random\n",
        "\n",
        "counter_attempt = -1\n",
        "counter_win = 0\n",
        "counter_loss = 0\n",
        "\n",
        "while True:\n",
        "    counter_attempt += 1\n",
        "    num_1 = random.randint(0, 10)\n",
        "    num_2 = random.randint(0, 10)\n",
        "    result = str(num_1 * num_2)\n",
        "    guess = input(f\"How much is {num_1} * {num_2}?: \")\n",
        "    if guess == \"q\":\n",
        "        print(f\"Thank you for playing, you guessed {counter_win} times, you gave the wrong answer {counter_loss} times, on a total of {counter_attempt} guesses!!!\")\n",
        "        break\n",
        "    elif guess == result:\n",
        "        print(\"Congratulations, you got it!\")\n",
        "        counter_win += 1\n",
        "    elif guess != result:\n",
        "        print(\"Wrong! Please try again...\")\n",
        "        counter_loss += 1"
      ],
      "metadata": {
        "colab": {
          "base_uri": "https://localhost:8080/"
        },
        "id": "kKuatKESEcX0",
        "outputId": "b969dceb-0801-4c56-8e19-ac575721ba35"
      },
      "execution_count": null,
      "outputs": [
        {
          "output_type": "stream",
          "name": "stdout",
          "text": [
            "How much is 6 * 6?: 36\n",
            "Congratulations, you got it!\n",
            "How much is 0 * 2?: 0\n",
            "Congratulations, you got it!\n",
            "How much is 2 * 8?: 16\n",
            "Congratulations, you got it!\n",
            "How much is 3 * 0?: 0\n",
            "Congratulations, you got it!\n",
            "How much is 0 * 2?: 0\n",
            "Congratulations, you got it!\n",
            "How much is 7 * 2?: 4\n",
            "Wrong! Please try again...\n"
          ]
        }
      ]
    }
  ]
}