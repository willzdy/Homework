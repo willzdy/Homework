{
  "nbformat": 4,
  "nbformat_minor": 0,
  "metadata": {
    "colab": {
      "name": "Homework",
      "provenance": [],
      "authorship_tag": "ABX9TyM4za4Ek++Zv3BoiXA5tvcS",
      "include_colab_link": true
    },
    "kernelspec": {
      "name": "python3",
      "display_name": "Python 3"
    },
    "language_info": {
      "name": "python"
    }
  },
  "cells": [
    {
      "cell_type": "markdown",
      "metadata": {
        "id": "view-in-github",
        "colab_type": "text"
      },
      "source": [
        "<a href=\"https://colab.research.google.com/github/willzdy/Homework/blob/main/Homework.ipynb\" target=\"_parent\"><img src=\"https://colab.research.google.com/assets/colab-badge.svg\" alt=\"Open In Colab\"/></a>"
      ]
    },
    {
      "cell_type": "code",
      "execution_count": null,
      "metadata": {
        "id": "Z9Q1QzMWoIfM"
      },
      "outputs": [],
      "source": [
        "#3 variables that do not have the correct naming convention\n",
        "\n",
        "maximum_number = 100\n",
        "2maximum_number = 100\n",
        "maximum_Number = 100\n"
      ]
    },
    {
      "cell_type": "code",
      "source": [
        "#3 variables that do have the correct naming convention\n",
        "maximum_number = 100\n",
        "name = 'peter'\n",
        "is_tall = True\n"
      ],
      "metadata": {
        "id": "3etfEh2xqAcv"
      },
      "execution_count": null,
      "outputs": []
    },
    {
      "cell_type": "code",
      "source": [
        "#2 examples of an integer,float,string and boolean variable value\n",
        "\n",
        "#integer variable value\n",
        "int14: any\n",
        "int14: any\n",
        "\n",
        "#float variable value\n",
        "10.5\n",
        "11.6\n",
        "\n",
        "#string variable value\n",
        "0000\n",
        "1111\n",
        "\n",
        "#boolen variable value\n",
        "true: any\n",
        "false: any"
      ],
      "metadata": {
        "id": "usuniq6gqLz_"
      },
      "execution_count": 9,
      "outputs": []
    },
    {
      "cell_type": "code",
      "source": [
        "#1 example of each of the following math operations: addition,subtraction,multiplication,division,modulo and exponential\n",
        "\n",
        "#addition\n",
        "(2 + 5)"
      ],
      "metadata": {
        "colab": {
          "base_uri": "https://localhost:8080/"
        },
        "id": "c2BUCzxDsBH9",
        "outputId": "18ebd710-5f6f-4302-b784-a69ef4775db3"
      },
      "execution_count": 10,
      "outputs": [
        {
          "output_type": "execute_result",
          "data": {
            "text/plain": [
              "7"
            ]
          },
          "metadata": {},
          "execution_count": 10
        }
      ]
    },
    {
      "cell_type": "code",
      "source": [
        "#subtraction\n",
        "(8 - 3)"
      ],
      "metadata": {
        "colab": {
          "base_uri": "https://localhost:8080/"
        },
        "id": "ghGgEnwFtzYf",
        "outputId": "0b0fd6f6-ae32-40a8-c749-29802468bc28"
      },
      "execution_count": 11,
      "outputs": [
        {
          "output_type": "execute_result",
          "data": {
            "text/plain": [
              "5"
            ]
          },
          "metadata": {},
          "execution_count": 11
        }
      ]
    },
    {
      "cell_type": "code",
      "source": [
        "#multiplication\n",
        "(5 * 3)"
      ],
      "metadata": {
        "colab": {
          "base_uri": "https://localhost:8080/"
        },
        "id": "AslZTcouuJVO",
        "outputId": "6c4609cb-b093-4754-aef3-63f00bd30a22"
      },
      "execution_count": 12,
      "outputs": [
        {
          "output_type": "execute_result",
          "data": {
            "text/plain": [
              "15"
            ]
          },
          "metadata": {},
          "execution_count": 12
        }
      ]
    },
    {
      "cell_type": "code",
      "source": [
        "#division\n",
        "( 10 / 2)"
      ],
      "metadata": {
        "colab": {
          "base_uri": "https://localhost:8080/"
        },
        "id": "88vglAGvuRsV",
        "outputId": "7fe04fc8-97f6-4596-cd89-024a2002f0d5"
      },
      "execution_count": 14,
      "outputs": [
        {
          "output_type": "execute_result",
          "data": {
            "text/plain": [
              "5.0"
            ]
          },
          "metadata": {},
          "execution_count": 14
        }
      ]
    },
    {
      "cell_type": "code",
      "source": [
        "#modulo\n",
        "(5 / 3)"
      ],
      "metadata": {
        "colab": {
          "base_uri": "https://localhost:8080/"
        },
        "id": "q40p1DO3uagw",
        "outputId": "99f6fce3-236b-4791-8a8c-cc07d9b69d9d"
      },
      "execution_count": 18,
      "outputs": [
        {
          "output_type": "execute_result",
          "data": {
            "text/plain": [
              "1.6666666666666667"
            ]
          },
          "metadata": {},
          "execution_count": 18
        }
      ]
    },
    {
      "cell_type": "code",
      "source": [
        ""
      ],
      "metadata": {
        "id": "PuKszou0ux-C"
      },
      "execution_count": null,
      "outputs": []
    }
  ]
}