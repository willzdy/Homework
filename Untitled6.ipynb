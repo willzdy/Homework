{
  "nbformat": 4,
  "nbformat_minor": 0,
  "metadata": {
    "colab": {
      "name": "Untitled6.ipynb",
      "provenance": [],
      "authorship_tag": "ABX9TyMlC+HSgvJiFcEZHKYGYoNX",
      "include_colab_link": true
    },
    "kernelspec": {
      "name": "python3",
      "display_name": "Python 3"
    },
    "language_info": {
      "name": "python"
    }
  },
  "cells": [
    {
      "cell_type": "markdown",
      "metadata": {
        "id": "view-in-github",
        "colab_type": "text"
      },
      "source": [
        "<a href=\"https://colab.research.google.com/github/willzdy/Homework/blob/main/Untitled6.ipynb\" target=\"_parent\"><img src=\"https://colab.research.google.com/assets/colab-badge.svg\" alt=\"Open In Colab\"/></a>"
      ]
    },
    {
      "cell_type": "code",
      "execution_count": 16,
      "metadata": {
        "colab": {
          "base_uri": "https://localhost:8080/"
        },
        "id": "GSgLZkHzU4y7",
        "outputId": "6c167668-2cff-433a-accf-a41e353454fa"
      },
      "outputs": [
        {
          "output_type": "stream",
          "name": "stdout",
          "text": [
            "{'Germany': 'berlin', 'nigeria': 'abuja', 'france': 'paris'}\n"
          ]
        }
      ],
      "source": [
        "#create dictionary\n",
        "\n",
        "countries = {\n",
        "    \"Germany\" : \"berlin\",\n",
        "    \"nigeria\" : \"abuja\",\n",
        "    \"france\" : \"paris\"\n",
        "   }\n",
        "\n",
        "    \n",
        "print(countries)\n"
      ]
    },
    {
      "cell_type": "code",
      "source": [
        "for country, capital in countries.items():\n",
        "  print(\"the capital of\", country, \"is\", capital)"
      ],
      "metadata": {
        "colab": {
          "base_uri": "https://localhost:8080/"
        },
        "id": "be2sHetxXZTa",
        "outputId": "fa8e3b4a-f324-42ce-a912-0a5fc17c05b8"
      },
      "execution_count": 6,
      "outputs": [
        {
          "output_type": "stream",
          "name": "stdout",
          "text": [
            "the capital of Germany is berlin\n",
            "the capital of nigeria is abuja\n",
            "the capital of france is paris\n"
          ]
        }
      ]
    },
    {
      "cell_type": "code",
      "source": [
        "del countries[\"france\"]\n",
        "print(countries)\n",
        "\n",
        "del countries[\"Germany\"]\n",
        "print(countries)"
      ],
      "metadata": {
        "colab": {
          "base_uri": "https://localhost:8080/"
        },
        "id": "B5O3Wy2pY4PV",
        "outputId": "6c57efa0-f67f-4fe7-f05f-750637009f19"
      },
      "execution_count": 17,
      "outputs": [
        {
          "output_type": "stream",
          "name": "stdout",
          "text": [
            "{'Germany': 'berlin', 'nigeria': 'abuja'}\n",
            "{'nigeria': 'abuja'}\n"
          ]
        }
      ]
    },
    {
      "cell_type": "code",
      "source": [
        "\n"
      ],
      "metadata": {
        "id": "DTVwB0jLahYf"
      },
      "execution_count": null,
      "outputs": []
    },
    {
      "cell_type": "code",
      "execution_count": 20,
      "metadata": {
        "colab": {
          "base_uri": "https://localhost:8080/"
        },
        "id": "3zP4PDmjHsUF",
        "outputId": "5b834735-0693-4dbe-f660-d0bfac8b7b08"
      },
      "outputs": [
        {
          "output_type": "stream",
          "name": "stdout",
          "text": [
            "{1: 1, 2: 4, 3: 9, 4: 16, 5: 25}\n",
            "16\n"
          ]
        }
      ],
      "source": [
        "\n",
        "def squares(n):\n",
        "       dic = {}\n",
        "       for num in range(1,n+1):\n",
        "           val = num*num \n",
        "           dic [num] = val\n",
        "       return dic\n",
        "print(squares(5))\n",
        "dic = squares(5)\n",
        "print(dic[4])\n"
      ]
    }
  ]
}